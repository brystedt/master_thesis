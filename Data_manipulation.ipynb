{
 "cells": [
  {
   "cell_type": "code",
   "execution_count": 1,
   "metadata": {},
   "outputs": [
    {
     "ename": "ModuleNotFoundError",
     "evalue": "No module named 'cv2'",
     "output_type": "error",
     "traceback": [
      "\u001b[0;31m---------------------------------------------------------------------------\u001b[0m",
      "\u001b[0;31mModuleNotFoundError\u001b[0m                       Traceback (most recent call last)",
      "\u001b[0;32m<ipython-input-1-8e6e3064ce6e>\u001b[0m in \u001b[0;36m<module>\u001b[0;34m\u001b[0m\n\u001b[1;32m      1\u001b[0m \u001b[0;32mfrom\u001b[0m \u001b[0mreg_utils\u001b[0m \u001b[0;32mimport\u001b[0m \u001b[0;34m*\u001b[0m\u001b[0;34m\u001b[0m\u001b[0;34m\u001b[0m\u001b[0m\n\u001b[0;32m----> 2\u001b[0;31m \u001b[0;32mfrom\u001b[0m \u001b[0mpreprocessing\u001b[0m \u001b[0;32mimport\u001b[0m \u001b[0mcrop_image\u001b[0m\u001b[0;34m\u001b[0m\u001b[0;34m\u001b[0m\u001b[0m\n\u001b[0m\u001b[1;32m      3\u001b[0m \u001b[0;32mimport\u001b[0m \u001b[0mnumpy\u001b[0m \u001b[0;32mas\u001b[0m \u001b[0mnp\u001b[0m\u001b[0;34m\u001b[0m\u001b[0;34m\u001b[0m\u001b[0m\n",
      "\u001b[0;32m~/Downloads/CSAW-S/preprocessing.py\u001b[0m in \u001b[0;36m<module>\u001b[0;34m\u001b[0m\n\u001b[1;32m      4\u001b[0m \u001b[0;31m# In[ ]:\u001b[0m\u001b[0;34m\u001b[0m\u001b[0;34m\u001b[0m\u001b[0;34m\u001b[0m\u001b[0m\n\u001b[1;32m      5\u001b[0m \u001b[0;34m\u001b[0m\u001b[0m\n\u001b[0;32m----> 6\u001b[0;31m \u001b[0;32mimport\u001b[0m \u001b[0mcv2\u001b[0m\u001b[0;34m\u001b[0m\u001b[0;34m\u001b[0m\u001b[0m\n\u001b[0m\u001b[1;32m      7\u001b[0m \u001b[0;32mimport\u001b[0m \u001b[0mnumpy\u001b[0m \u001b[0;32mas\u001b[0m \u001b[0mnp\u001b[0m\u001b[0;34m\u001b[0m\u001b[0;34m\u001b[0m\u001b[0m\n\u001b[1;32m      8\u001b[0m \u001b[0;34m\u001b[0m\u001b[0m\n",
      "\u001b[0;31mModuleNotFoundError\u001b[0m: No module named 'cv2'"
     ]
    }
   ],
   "source": [
    "from reg_utils import *\n",
    "from preprocessing import crop_image\n",
    "import numpy as np\n"
   ]
  },
  {
   "cell_type": "code",
   "execution_count": 2,
   "metadata": {},
   "outputs": [
    {
     "ename": "NameError",
     "evalue": "name 'cv2' is not defined",
     "output_type": "error",
     "traceback": [
      "\u001b[0;31m---------------------------------------------------------------------------\u001b[0m",
      "\u001b[0;31mNameError\u001b[0m                                 Traceback (most recent call last)",
      "\u001b[0;32m<ipython-input-2-6ce781b62c9f>\u001b[0m in \u001b[0;36m<module>\u001b[0;34m\u001b[0m\n\u001b[1;32m      6\u001b[0m \u001b[0mdata\u001b[0m \u001b[0;34m=\u001b[0m \u001b[0mnp\u001b[0m\u001b[0;34m.\u001b[0m\u001b[0marray\u001b[0m\u001b[0;34m(\u001b[0m\u001b[0mimage\u001b[0m\u001b[0;34m)\u001b[0m\u001b[0;34m\u001b[0m\u001b[0;34m\u001b[0m\u001b[0m\n\u001b[1;32m      7\u001b[0m \u001b[0;34m\u001b[0m\u001b[0m\n\u001b[0;32m----> 8\u001b[0;31m \u001b[0mcropped\u001b[0m \u001b[0;34m=\u001b[0m \u001b[0mcrop_image\u001b[0m\u001b[0;34m(\u001b[0m\u001b[0mdata\u001b[0m\u001b[0;34m,\u001b[0m\u001b[0mdim\u001b[0m\u001b[0;34m)\u001b[0m\u001b[0;34m\u001b[0m\u001b[0;34m\u001b[0m\u001b[0m\n\u001b[0m\u001b[1;32m      9\u001b[0m \u001b[0;34m\u001b[0m\u001b[0m\n\u001b[1;32m     10\u001b[0m \u001b[0mImage\u001b[0m\u001b[0;34m.\u001b[0m\u001b[0mfromarray\u001b[0m\u001b[0;34m(\u001b[0m\u001b[0mcropped\u001b[0m\u001b[0;34m)\u001b[0m\u001b[0;34m.\u001b[0m\u001b[0mshow\u001b[0m\u001b[0;34m(\u001b[0m\u001b[0;34m)\u001b[0m\u001b[0;34m\u001b[0m\u001b[0;34m\u001b[0m\u001b[0m\n",
      "\u001b[0;32m~/Downloads/CSAW-S/preprocessing.py\u001b[0m in \u001b[0;36mcrop_image\u001b[0;34m(img, dim)\u001b[0m\n\u001b[1;32m     73\u001b[0m \u001b[0;34m\u001b[0m\u001b[0m\n\u001b[1;32m     74\u001b[0m     \u001b[0;31m# crop with distance transform and pad\u001b[0m\u001b[0;34m\u001b[0m\u001b[0;34m\u001b[0m\u001b[0;34m\u001b[0m\u001b[0m\n\u001b[0;32m---> 75\u001b[0;31m     \u001b[0mmaxLoc\u001b[0m \u001b[0;34m=\u001b[0m \u001b[0mnew_cropping_single_dist\u001b[0m\u001b[0;34m(\u001b[0m\u001b[0mimg\u001b[0m\u001b[0;34m)\u001b[0m\u001b[0;34m\u001b[0m\u001b[0;34m\u001b[0m\u001b[0m\n\u001b[0m\u001b[1;32m     76\u001b[0m \u001b[0;34m\u001b[0m\u001b[0m\n\u001b[1;32m     77\u001b[0m     \u001b[0;31m# keep a record of the center of the mass in original coordinate space\u001b[0m\u001b[0;34m\u001b[0m\u001b[0;34m\u001b[0m\u001b[0;34m\u001b[0m\u001b[0m\n",
      "\u001b[0;32m~/Downloads/CSAW-S/preprocessing.py\u001b[0m in \u001b[0;36mnew_cropping_single_dist\u001b[0;34m(img)\u001b[0m\n\u001b[1;32m     14\u001b[0m     \u001b[0mkernel\u001b[0m \u001b[0;34m=\u001b[0m \u001b[0mnp\u001b[0m\u001b[0;34m.\u001b[0m\u001b[0mones\u001b[0m\u001b[0;34m(\u001b[0m\u001b[0mkernel_size\u001b[0m\u001b[0;34m,\u001b[0m \u001b[0mnp\u001b[0m\u001b[0;34m.\u001b[0m\u001b[0muint8\u001b[0m\u001b[0;34m)\u001b[0m\u001b[0;34m\u001b[0m\u001b[0;34m\u001b[0m\u001b[0m\n\u001b[1;32m     15\u001b[0m \u001b[0;34m\u001b[0m\u001b[0m\n\u001b[0;32m---> 16\u001b[0;31m     \u001b[0m_\u001b[0m\u001b[0;34m,\u001b[0m \u001b[0mimg\u001b[0m \u001b[0;34m=\u001b[0m \u001b[0mcv2\u001b[0m\u001b[0;34m.\u001b[0m\u001b[0mthreshold\u001b[0m\u001b[0;34m(\u001b[0m\u001b[0mimg\u001b[0m\u001b[0;34m,\u001b[0m \u001b[0mimg\u001b[0m\u001b[0;34m.\u001b[0m\u001b[0mmin\u001b[0m\u001b[0;34m(\u001b[0m\u001b[0;34m)\u001b[0m\u001b[0;34m,\u001b[0m \u001b[0mimg\u001b[0m\u001b[0;34m.\u001b[0m\u001b[0mmax\u001b[0m\u001b[0;34m(\u001b[0m\u001b[0;34m)\u001b[0m\u001b[0;34m,\u001b[0m \u001b[0mcv2\u001b[0m\u001b[0;34m.\u001b[0m\u001b[0mTHRESH_BINARY\u001b[0m\u001b[0;34m)\u001b[0m\u001b[0;34m\u001b[0m\u001b[0;34m\u001b[0m\u001b[0m\n\u001b[0m\u001b[1;32m     17\u001b[0m \u001b[0;34m\u001b[0m\u001b[0m\n\u001b[1;32m     18\u001b[0m     \u001b[0mimg\u001b[0m \u001b[0;34m=\u001b[0m \u001b[0mcv2\u001b[0m\u001b[0;34m.\u001b[0m\u001b[0mGaussianBlur\u001b[0m\u001b[0;34m(\u001b[0m\u001b[0mimg\u001b[0m\u001b[0;34m,\u001b[0m \u001b[0mkernel_size\u001b[0m\u001b[0;34m,\u001b[0m \u001b[0;36m0\u001b[0m\u001b[0;34m)\u001b[0m\u001b[0;34m\u001b[0m\u001b[0;34m\u001b[0m\u001b[0m\n",
      "\u001b[0;31mNameError\u001b[0m: name 'cv2' is not defined"
     ]
    }
   ],
   "source": [
    "dim = (192,240)\n",
    "\n",
    "image = Image.open('2B4B65304845774E7852364E334935366D34745863513D3D_537153536F422F464D673568615A614E722B565347774455364A6367436A4C48_20100406_1.png')\n",
    "image.show()\n",
    "\n",
    "data = np.array(image)\n",
    "\n",
    "cropped = crop_image(data,dim)\n",
    "\n",
    "Image.fromarray(cropped).show()\n"
   ]
  },
  {
   "cell_type": "code",
   "execution_count": 2,
   "metadata": {},
   "outputs": [
    {
     "name": "stdout",
     "output_type": "stream",
     "text": [
      "192x240_3channel_coord_flip_noise2_trainX0.8\n"
     ]
    }
   ],
   "source": [
    "dim = (192, 240)\n",
    "name = get_filename(dim, rgb=True, coord=True, flip=True, noise=2, settype='trainX', setsize=0.8)\n",
    "print(name)"
   ]
  },
  {
   "cell_type": "code",
   "execution_count": 2,
   "metadata": {},
   "outputs": [],
   "source": [
    "from PIL import Image, ImageOps\n",
    "import numpy as np\n",
    "from os import listdir"
   ]
  },
  {
   "cell_type": "code",
   "execution_count": 29,
   "metadata": {},
   "outputs": [],
   "source": [
    "from PIL import Image, ImageDraw\n",
    "\n",
    "im = Image.new('L', (350, 500), (0))\n",
    "draw = ImageDraw.Draw(im)\n",
    "\n",
    "draw.ellipse((250, 250, 315, 285), fill=(255))\n",
    "\n",
    "im.show()\n",
    "\n"
   ]
  },
  {
   "cell_type": "code",
   "execution_count": null,
   "metadata": {},
   "outputs": [],
   "source": [
    "#test PIL\n",
    "\n",
    "from PIL import Image\n",
    "\n",
    "print(\"Image info:\")\n",
    "# load the image\n",
    "image = Image.open('68344674535469533878377A584E43593337513070413D3D_537153536F422F464D67357430426C43547431456F774455364A6367436A4C48_20110406_4.png')\n",
    "# summarize some details about the image\n",
    "print(image.format)\n",
    "print(image.mode)\n",
    "print(image.size)\n",
    "\n",
    "print()\n",
    "print(\"Mask info:\")\n",
    "# load the image\n",
    "image = Image.open('68344674535469533878377A584E43593337513070413D3D_537153536F422F464D67357430426C43547431456F774455364A6367436A4C48_20110406_4_mask.png')\n",
    "# summarize some details about the image\n",
    "print(image.format)\n",
    "print(image.mode)\n",
    "print(image.size)\n",
    "img_grey= image.convert('RGB')\n",
    "print(img_grey.mode)\n"
   ]
  },
  {
   "cell_type": "code",
   "execution_count": 11,
   "metadata": {},
   "outputs": [],
   "source": [
    "#manual data augmentation (rotation)\n",
    "\n",
    "\n",
    "def load_data(nr_samples = 438, folder_path = 'priors_all_copy', \n",
    "              rgb = False, dim = (192, 240), rotate = True, mirror = True):\n",
    "    input_images = []\n",
    "    target_pixels = []\n",
    "    passed_pix = 0\n",
    "    passed_img = 0\n",
    "    rot = 1\n",
    "    for filename in sorted(listdir(folder_path)):\n",
    "        if \"DS_Store\" in filename:\n",
    "            pass\n",
    "        elif \"mask\" not in filename:\n",
    "            try:\n",
    "                #open image\n",
    "                img_data = Image.open(folder_path + '/' + filename)\n",
    "                if rgb == True:\n",
    "                    img_rgb = img_data.convert('RGB')\n",
    "                else: \n",
    "                    img_rgb = img_data\n",
    "                #open mask\n",
    "                maskname = filename.split('.')[0] + \"_mask.png\"\n",
    "                pix_data = Image.open(folder_path + '/' + maskname)\n",
    "                if rotate == True: \n",
    "                    rot = 2\n",
    "                for i in range(rot):\n",
    "                    #rotate image + add\n",
    "                    rot_img = img_rgb.rotate(i*180, Image.NEAREST, expand = 1)\n",
    "                    img_resized = rot_img.resize(dim)\n",
    "                    data = np.array(img_resized)\n",
    "                    new_filename = filename.split('.')[0] + \"_\" + str(i) + \".png\"\n",
    "                    input_images.append([new_filename,data])\n",
    "                    \n",
    "                    #rotate mask + add\n",
    "                    rot_pix = pix_data.rotate(i*180, Image.NEAREST, expand = 1)\n",
    "                    data = np.array(rot_pix)\n",
    "                    pixel_coord = np.where(data == True)\n",
    "                    img_size = rot_pix.size\n",
    "                    new_maskname = filename.split('.')[0] + \"_mask_\" + str(i) + \".png\"\n",
    "                    target_pixels.append([new_maskname, (pixel_coord[1][0]/img_size[0])*dim[0], (pixel_coord[0][0]/img_size[1])*dim[1]])\n",
    "                    \n",
    "                    if mirror:\n",
    "                        #mirror + add\n",
    "                        orig_mir = ImageOps.mirror(rot_img)\n",
    "                        img_resized = orig_mir.resize(dim)\n",
    "                        data = np.array(img_resized)\n",
    "                        new_filename = filename.split('.')[0] + \"_m_\" + str(i) + \".png\"\n",
    "                        input_images.append([new_filename,data])\n",
    "\n",
    "                        #mirror mask + add                  \n",
    "                        mir_pix = ImageOps.mirror(rot_pix)\n",
    "                        data = np.array(mir_pix)\n",
    "                        pixel_coord = np.where(data == True)\n",
    "                        img_size = rot_pix.size\n",
    "                        new_maskname = filename.split('.')[0] + \"_mask_m_\" + str(i) + \".png\"\n",
    "                        target_pixels.append([new_maskname, (pixel_coord[1][0]/img_size[0])*dim[0], (pixel_coord[0][0]/img_size[1])*dim[1]])\n",
    "\n",
    "                    \n",
    "            except (UnidentifiedImageError, NameError):\n",
    "                passed_img += 1\n",
    "\n",
    "    input_images = np.asarray(input_images)\n",
    "    target_pixels = np.asarray(target_pixels)\n",
    "    \n",
    "    return input_images, target_pixels\n"
   ]
  },
  {
   "cell_type": "code",
   "execution_count": 12,
   "metadata": {},
   "outputs": [],
   "source": [
    "def gen_dataset(input_images, target_pixels): #generate dataset\n",
    "    \n",
    "    #remove filenames (only keep input and target)\n",
    "    X_img = np.squeeze(input_images[:,1])\n",
    "    Y_pix = target_pixels[:,[1,2]]\n",
    "    \n",
    "    #shuffle same way\n",
    "    rng_state = np.random.get_state()\n",
    "    np.random.shuffle(X_img)\n",
    "    np.random.set_state(rng_state)\n",
    "    np.random.shuffle(Y_pix)\n",
    "    \n",
    "    X_img = np.stack(X_img, axis=0)\n",
    "    \n",
    "    X_img = X_img/255\n",
    "\n",
    "    \n",
    "    return X_img, Y_pix"
   ]
  },
  {
   "cell_type": "code",
   "execution_count": 13,
   "metadata": {},
   "outputs": [],
   "source": [
    "def divide_train_test(X_img, Y_pix, trainsize, rgb=False):\n",
    "    \n",
    "    # divide into train and test:\n",
    "    split = int(len(X_img)*trainsize)\n",
    "    X_train = X_img[0:split]\n",
    "    X_test = X_img[split+1:-1]\n",
    "    Y_train = Y_pix[0:split]\n",
    "    Y_test = Y_pix[split+1:-1]\n",
    "    \n",
    "    # format input arrays\n",
    "    if rgb == False:\n",
    "        X_train = X_train[:,:,:,np.newaxis]\n",
    "        X_test = X_test[:,:,:,np.newaxis]\n",
    "        \n",
    "    return X_train, Y_train, X_test, Y_test"
   ]
  },
  {
   "cell_type": "code",
   "execution_count": 14,
   "metadata": {},
   "outputs": [],
   "source": [
    "rgb = False\n",
    "#dim = (192, 240) #width, heigth (ratio 0.8) \n",
    "dim = (384, 480)\n",
    "#dim = (960, 1200) #största testad hittills\n",
    "#dim = (1920, 2400)\n",
    "#dim = (2400, 3000) #största möjliga\n",
    "    \n",
    "input_images, target_pixels = load_data(rgb = rgb, dim = dim, rotate=False, mirror=False)\n",
    "\n",
    "X_img, Y_pix = gen_dataset(input_images, target_pixels)\n",
    "\n",
    "X_train, Y_train, X_test, Y_test = divide_train_test(X_img, Y_pix, trainsize = 0.8)"
   ]
  },
  {
   "cell_type": "code",
   "execution_count": 15,
   "metadata": {},
   "outputs": [
    {
     "name": "stdout",
     "output_type": "stream",
     "text": [
      "(1401, 480, 384, 1)\n",
      "(1401, 2)\n",
      "(349, 480, 384, 1)\n",
      "(349, 2)\n"
     ]
    }
   ],
   "source": [
    "print(X_train.shape)\n",
    "print(Y_train.shape)\n",
    "print(X_test.shape)\n",
    "print(Y_test.shape)\n",
    "#print(Y_test)"
   ]
  },
  {
   "cell_type": "code",
   "execution_count": 18,
   "metadata": {},
   "outputs": [
    {
     "name": "stdout",
     "output_type": "stream",
     "text": [
      "X_384x480_rgb-False.csv\n",
      "Y_384x480_rgb-False.csv\n"
     ]
    },
    {
     "ename": "ValueError",
     "evalue": "Expected 1D or 2D array, got 3D array instead",
     "output_type": "error",
     "traceback": [
      "\u001b[0;31m---------------------------------------------------------------------------\u001b[0m",
      "\u001b[0;31mValueError\u001b[0m                                Traceback (most recent call last)",
      "\u001b[0;32m<ipython-input-18-114524ffff7c>\u001b[0m in \u001b[0;36m<module>\u001b[0;34m\u001b[0m\n\u001b[1;32m      6\u001b[0m \u001b[0mprint\u001b[0m\u001b[0;34m(\u001b[0m\u001b[0mY_filename\u001b[0m\u001b[0;34m)\u001b[0m\u001b[0;34m\u001b[0m\u001b[0;34m\u001b[0m\u001b[0m\n\u001b[1;32m      7\u001b[0m \u001b[0;34m\u001b[0m\u001b[0m\n\u001b[0;32m----> 8\u001b[0;31m \u001b[0msavetxt\u001b[0m\u001b[0;34m(\u001b[0m\u001b[0mX_filename\u001b[0m\u001b[0;34m,\u001b[0m \u001b[0mX_img\u001b[0m\u001b[0;34m,\u001b[0m \u001b[0mdelimiter\u001b[0m\u001b[0;34m=\u001b[0m\u001b[0;34m','\u001b[0m\u001b[0;34m)\u001b[0m\u001b[0;31m#, fmt='%s')\u001b[0m\u001b[0;34m\u001b[0m\u001b[0;34m\u001b[0m\u001b[0m\n\u001b[0m\u001b[1;32m      9\u001b[0m \u001b[0msavetxt\u001b[0m\u001b[0;34m(\u001b[0m\u001b[0mY_filename\u001b[0m\u001b[0;34m,\u001b[0m \u001b[0mY_pix\u001b[0m\u001b[0;34m,\u001b[0m \u001b[0mdelimiter\u001b[0m\u001b[0;34m=\u001b[0m\u001b[0;34m','\u001b[0m\u001b[0;34m)\u001b[0m\u001b[0;31m#, fmt='%s')\u001b[0m\u001b[0;34m\u001b[0m\u001b[0;34m\u001b[0m\u001b[0m\n",
      "\u001b[0;32m<__array_function__ internals>\u001b[0m in \u001b[0;36msavetxt\u001b[0;34m(*args, **kwargs)\u001b[0m\n",
      "\u001b[0;32m/opt/anaconda3/lib/python3.7/site-packages/numpy/lib/npyio.py\u001b[0m in \u001b[0;36msavetxt\u001b[0;34m(fname, X, fmt, delimiter, newline, header, footer, comments, encoding)\u001b[0m\n\u001b[1;32m   1380\u001b[0m         \u001b[0;32mif\u001b[0m \u001b[0mX\u001b[0m\u001b[0;34m.\u001b[0m\u001b[0mndim\u001b[0m \u001b[0;34m==\u001b[0m \u001b[0;36m0\u001b[0m \u001b[0;32mor\u001b[0m \u001b[0mX\u001b[0m\u001b[0;34m.\u001b[0m\u001b[0mndim\u001b[0m \u001b[0;34m>\u001b[0m \u001b[0;36m2\u001b[0m\u001b[0;34m:\u001b[0m\u001b[0;34m\u001b[0m\u001b[0;34m\u001b[0m\u001b[0m\n\u001b[1;32m   1381\u001b[0m             raise ValueError(\n\u001b[0;32m-> 1382\u001b[0;31m                 \"Expected 1D or 2D array, got %dD array instead\" % X.ndim)\n\u001b[0m\u001b[1;32m   1383\u001b[0m         \u001b[0;32melif\u001b[0m \u001b[0mX\u001b[0m\u001b[0;34m.\u001b[0m\u001b[0mndim\u001b[0m \u001b[0;34m==\u001b[0m \u001b[0;36m1\u001b[0m\u001b[0;34m:\u001b[0m\u001b[0;34m\u001b[0m\u001b[0;34m\u001b[0m\u001b[0m\n\u001b[1;32m   1384\u001b[0m             \u001b[0;31m# Common case -- 1d array of numbers\u001b[0m\u001b[0;34m\u001b[0m\u001b[0;34m\u001b[0m\u001b[0;34m\u001b[0m\u001b[0m\n",
      "\u001b[0;31mValueError\u001b[0m: Expected 1D or 2D array, got 3D array instead"
     ]
    }
   ],
   "source": [
    "from numpy import savetxt\n",
    "# save to csv file\n",
    "X_filename = 'X_'+ str(dim[0]) + 'x' + str(dim[1]) + '_' + 'rgb-' + str(rgb) + '.csv'\n",
    "Y_filename = 'Y_'+ str(dim[0]) + 'x' + str(dim[1]) + '_' + 'rgb-' + str(rgb) + '.csv'\n",
    "print(X_filename)\n",
    "print(Y_filename)\n",
    "\n",
    "savetxt(X_filename, X_img, delimiter=',')#, fmt='%s')\n",
    "savetxt(Y_filename, Y_pix, delimiter=',')#, fmt='%s')"
   ]
  },
  {
   "cell_type": "code",
   "execution_count": null,
   "metadata": {},
   "outputs": [],
   "source": []
  }
 ],
 "metadata": {
  "kernelspec": {
   "display_name": "Python 3",
   "language": "python",
   "name": "python3"
  },
  "language_info": {
   "codemirror_mode": {
    "name": "ipython",
    "version": 3
   },
   "file_extension": ".py",
   "mimetype": "text/x-python",
   "name": "python",
   "nbconvert_exporter": "python",
   "pygments_lexer": "ipython3",
   "version": "3.7.4"
  }
 },
 "nbformat": 4,
 "nbformat_minor": 2
}
