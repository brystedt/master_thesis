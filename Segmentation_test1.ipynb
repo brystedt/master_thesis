{
 "cells": [
  {
   "cell_type": "code",
   "execution_count": 30,
   "metadata": {},
   "outputs": [],
   "source": [
    "from seg_utils import *\n",
    "#from preprocessing import crop_image\n",
    "import segmentation_models_pytorch as smp\n",
    "import torch\n",
    "from torch.utils.data import DataLoader\n",
    "import matplotlib.pyplot as plt\n",
    "#import albumentations as albu"
   ]
  },
  {
   "cell_type": "code",
   "execution_count": 2,
   "metadata": {},
   "outputs": [],
   "source": [
    "rgb = True\n",
    "X_img, Y_mask = load_data(rgb = rgb, dim = (192, 240))"
   ]
  },
  {
   "cell_type": "code",
   "execution_count": 3,
   "metadata": {},
   "outputs": [],
   "source": [
    "#print(X_img.shape)\n",
    "#print(Y_mask.shape)"
   ]
  },
  {
   "cell_type": "code",
   "execution_count": 4,
   "metadata": {},
   "outputs": [],
   "source": [
    "#Image.fromarray(Y_mask[37]*255).show()"
   ]
  },
  {
   "cell_type": "code",
   "execution_count": 80,
   "metadata": {},
   "outputs": [
    {
     "name": "stdout",
     "output_type": "stream",
     "text": [
      "Dividing data into train and test set.\n",
      "Adding flipped images to trainset.\n",
      "Adding images with noise to trainset.\n",
      "Making Gauss1\n",
      "Adding Gauss1\n",
      "Making Gauss2\n",
      "Adding Gauss2\n",
      "(4200, 3, 192, 192)\n",
      "(4200, 3, 192, 192)\n",
      "(42, 3, 192, 192)\n",
      "(42, 3, 192, 192)\n",
      "(43, 3, 192, 192)\n",
      "(43, 3, 192, 192)\n"
     ]
    }
   ],
   "source": [
    "augment_flip = True\n",
    "augment_noise = 2\n",
    "\n",
    "X_train, Y_train, X_val, Y_val, X_test, Y_test = divide_train_test(X_img, Y_mask, trainsize=0.8, \n",
    "                                                                   validationsize=0.1, rgb = rgb, \n",
    "                                                                   augment_flip = augment_flip, \n",
    "                                                                   augment_noise = augment_noise)\n",
    "\n",
    "print(X_train.shape)\n",
    "print(Y_train.shape)\n",
    "print(X_val.shape)\n",
    "print(Y_val.shape)\n",
    "print(X_test.shape)\n",
    "print(Y_test.shape)"
   ]
  },
  {
   "cell_type": "code",
   "execution_count": 81,
   "metadata": {},
   "outputs": [],
   "source": [
    "X_train = torch.Tensor(X_train)\n",
    "Y_train = torch.Tensor(Y_train)\n",
    "X_val = torch.Tensor(X_val)\n",
    "Y_val = torch.Tensor(Y_val)\n",
    "X_test = torch.Tensor(X_test)\n",
    "Y_test = torch.Tensor(Y_test)"
   ]
  },
  {
   "cell_type": "code",
   "execution_count": 82,
   "metadata": {},
   "outputs": [
    {
     "name": "stdout",
     "output_type": "stream",
     "text": [
      "torch.Size([4200, 3, 192, 192])\n"
     ]
    }
   ],
   "source": [
    "print(X_train.shape)"
   ]
  },
  {
   "cell_type": "code",
   "execution_count": 83,
   "metadata": {},
   "outputs": [],
   "source": [
    "train = torch.utils.data.TensorDataset(X_train, Y_train)\n",
    "val = torch.utils.data.TensorDataset(X_val, Y_val)\n",
    "test = torch.utils.data.TensorDataset(X_test, Y_test)"
   ]
  },
  {
   "cell_type": "code",
   "execution_count": 84,
   "metadata": {},
   "outputs": [],
   "source": [
    "train_loader = DataLoader(train, batch_size=8, shuffle=True, num_workers=12)\n",
    "valid_loader = DataLoader(val, batch_size=1, shuffle=False, num_workers=4)"
   ]
  },
  {
   "cell_type": "code",
   "execution_count": 85,
   "metadata": {},
   "outputs": [],
   "source": [
    "\n",
    "# helper function for data visualization\n",
    "def visualize(**images):\n",
    "    \"\"\"PLot images in one row.\"\"\"\n",
    "    n = len(images)\n",
    "    plt.figure(figsize=(16, 5))\n",
    "    for i, (name, image) in enumerate(images.items()):\n",
    "        plt.subplot(1, n, i + 1)\n",
    "        plt.xticks([])\n",
    "        plt.yticks([])\n",
    "        plt.title(' '.join(name.split('_')).title())\n",
    "        plt.imshow(image)\n",
    "    plt.show()"
   ]
  },
  {
   "cell_type": "code",
   "execution_count": null,
   "metadata": {},
   "outputs": [],
   "source": []
  },
  {
   "cell_type": "markdown",
   "metadata": {},
   "source": [
    "# Model"
   ]
  },
  {
   "cell_type": "code",
   "execution_count": 112,
   "metadata": {},
   "outputs": [],
   "source": [
    "model = smp.Unet('resnet18', classes = 1, activation = 'sigmoid', encoder_weights='imagenet')"
   ]
  },
  {
   "cell_type": "code",
   "execution_count": 113,
   "metadata": {},
   "outputs": [],
   "source": [
    "loss = smp.utils.losses.DiceLoss()\n",
    "\n",
    "metrics = [\n",
    "    smp.utils.metrics.IoU(threshold=0.5), #0.5\n",
    "]\n",
    "\n",
    "optimizer = torch.optim.SGD(model.parameters(), lr=0.1)#, momentum=0.9)\n",
    "#optimizer = torch.optim.Adam([dict(params=model.parameters(), lr=0.1),])"
   ]
  },
  {
   "cell_type": "code",
   "execution_count": 114,
   "metadata": {},
   "outputs": [],
   "source": [
    "train_epoch = smp.utils.train.TrainEpoch(\n",
    "    model, \n",
    "    loss=loss, \n",
    "    metrics=metrics, \n",
    "    optimizer=optimizer,\n",
    "    #device='cuda',\n",
    "    verbose=True,\n",
    ")\n",
    "\n",
    "valid_epoch = smp.utils.train.ValidEpoch(\n",
    "    model, \n",
    "    loss=loss, \n",
    "    metrics=metrics, \n",
    "    #device='cuda',\n",
    "    verbose=True,\n",
    ")"
   ]
  },
  {
   "cell_type": "code",
   "execution_count": null,
   "metadata": {
    "scrolled": false
   },
   "outputs": [
    {
     "name": "stdout",
     "output_type": "stream",
     "text": [
      "\n",
      "Epoch: 0\n",
      "train: 100%|██████████| 525/525 [29:42<00:00,  3.39s/it, dice_loss - 0.9732, iou_score - 0.01853] \n",
      "valid: 100%|██████████| 42/42 [00:06<00:00,  6.88it/s, dice_loss - 0.9518, iou_score - 0.02736]\n",
      "Model saved!\n",
      "\n",
      "Epoch: 1\n",
      "train: 100%|██████████| 525/525 [31:28<00:00,  3.60s/it, dice_loss - 0.9431, iou_score - 0.03145]\n",
      "valid: 100%|██████████| 42/42 [00:06<00:00,  6.82it/s, dice_loss - 0.9105, iou_score - 0.04993]\n",
      "Model saved!\n",
      "\n",
      "Epoch: 2\n",
      "train: 100%|██████████| 525/525 [34:09<00:00,  3.90s/it, dice_loss - 0.9179, iou_score - 0.04413] \n",
      "valid: 100%|██████████| 42/42 [00:05<00:00,  7.48it/s, dice_loss - 0.9124, iou_score - 0.04729]\n",
      "\n",
      "Epoch: 3\n",
      "train: 100%|██████████| 525/525 [28:07<00:00,  3.21s/it, dice_loss - 0.9068, iou_score - 0.05015]\n",
      "valid: 100%|██████████| 42/42 [00:05<00:00,  7.59it/s, dice_loss - 0.842, iou_score - 0.09812]\n",
      "Model saved!\n",
      "\n",
      "Epoch: 4\n",
      "train: 100%|██████████| 525/525 [29:44<00:00,  3.40s/it, dice_loss - 0.8974, iou_score - 0.05549]\n",
      "valid: 100%|██████████| 42/42 [00:05<00:00,  7.04it/s, dice_loss - 0.8269, iou_score - 0.1115] \n",
      "Model saved!\n",
      "\n",
      "Epoch: 5\n",
      "train: 100%|██████████| 525/525 [29:49<00:00,  3.41s/it, dice_loss - 0.8841, iou_score - 0.06345]\n",
      "valid: 100%|██████████| 42/42 [00:05<00:00,  7.39it/s, dice_loss - 0.8791, iou_score - 0.07857]\n",
      "Decrease decoder learning rate to 0.01!\n",
      "\n",
      "Epoch: 6\n",
      "train:  49%|████▉     | 257/525 [18:01<17:20,  3.88s/it, dice_loss - 0.8554, iou_score - 0.08094]"
     ]
    }
   ],
   "source": [
    "# train model for 40 epochs\n",
    "\n",
    "max_score = 0\n",
    "\n",
    "for i in range(0, 10):\n",
    "    \n",
    "    print('\\nEpoch: {}'.format(i))\n",
    "    train_logs = train_epoch.run(train_loader)\n",
    "    valid_logs = valid_epoch.run(valid_loader)\n",
    "    \n",
    "    # do something (save model, change lr, etc.)\n",
    "    if max_score < valid_logs['iou_score']:\n",
    "        max_score = valid_logs['iou_score']\n",
    "        torch.save(model, './best_model.pth')\n",
    "        print('Model saved!')\n",
    "           \n",
    "    if i == 5:\n",
    "        optimizer.param_groups[0]['lr'] = 0.01\n",
    "        print('Decrease decoder learning rate to 0.01!')  \n",
    "\n",
    "        \n",
    "        \n",
    "        "
   ]
  },
  {
   "cell_type": "markdown",
   "metadata": {},
   "source": [
    "# Test best saved model"
   ]
  },
  {
   "cell_type": "code",
   "execution_count": null,
   "metadata": {},
   "outputs": [],
   "source": [
    "# load best saved checkpoint\n",
    "best_model = torch.load('./best_model.pth')"
   ]
  },
  {
   "cell_type": "code",
   "execution_count": null,
   "metadata": {},
   "outputs": [],
   "source": [
    "test_dataloader = DataLoader(test)\n",
    "\n",
    "# evaluate model on test set\n",
    "test_epoch = smp.utils.train.ValidEpoch(\n",
    "    model=best_model,\n",
    "    loss=loss,\n",
    "    metrics=metrics,\n",
    "    #device=DEVICE,\n",
    ")\n",
    "\n",
    "logs = test_epoch.run(test_dataloader)"
   ]
  },
  {
   "cell_type": "code",
   "execution_count": null,
   "metadata": {},
   "outputs": [],
   "source": [
    "\n",
    "for i in range(5):\n",
    "    n = np.random.choice(len(test))\n",
    "    \n",
    "    image_vis = test[n][0].numpy()\n",
    "    image, gt_mask = test[n]\n",
    "    image = image.numpy()\n",
    "    gt_mask = gt_mask.numpy()\n",
    "    \n",
    "    gt_mask = gt_mask.squeeze()\n",
    "    \n",
    "    x_tensor = torch.from_numpy(image).unsqueeze(0)\n",
    "    pr_mask = best_model.predict(x_tensor)\n",
    "    pr_mask = (pr_mask.squeeze().cpu().numpy().round())\n",
    "    \n",
    "    #plt.subplot(1, 5, i + 1)\n",
    "    plt.imshow(np.transpose(image_vis)+np.transpose(gt_mask)+np.transpose(pr_mask[np.newaxis]))\n",
    "    #plt.imshow(np.transpose(gt_mask), cmap='jet', alpha=0.5)\n",
    "    plt.show()\n",
    "\n",
    "    #plt.imshow(np.transpose(image_vis)+np.transpose(pr_mask[np.newaxis]))\n",
    "    #plt.imshow(np.transpose(pr_mask), cmap='jet', alpha=0.5)\n",
    "    #plt.show()\n",
    "    \n",
    "    '''\n",
    "    visualize(\n",
    "        image=np.transpose(image_vis), \n",
    "        ground_truth_mask=np.transpose(gt_mask), \n",
    "        predicted_mask=np.transpose(pr_mask)\n",
    "    )'''\n"
   ]
  },
  {
   "cell_type": "code",
   "execution_count": null,
   "metadata": {},
   "outputs": [],
   "source": []
  },
  {
   "cell_type": "code",
   "execution_count": null,
   "metadata": {},
   "outputs": [],
   "source": []
  },
  {
   "cell_type": "code",
   "execution_count": null,
   "metadata": {},
   "outputs": [],
   "source": []
  },
  {
   "cell_type": "code",
   "execution_count": null,
   "metadata": {},
   "outputs": [],
   "source": []
  }
 ],
 "metadata": {
  "kernelspec": {
   "display_name": "Python 3",
   "language": "python",
   "name": "python3"
  },
  "language_info": {
   "codemirror_mode": {
    "name": "ipython",
    "version": 3
   },
   "file_extension": ".py",
   "mimetype": "text/x-python",
   "name": "python",
   "nbconvert_exporter": "python",
   "pygments_lexer": "ipython3",
   "version": "3.7.4"
  }
 },
 "nbformat": 4,
 "nbformat_minor": 2
}
